{
 "cells": [
  {
   "cell_type": "markdown",
   "id": "4a3d3e5c-422a-4ab1-a1a4-45e49199eb64",
   "metadata": {},
   "source": [
    "# Quelques exercices d'algorithmique en Python"
   ]
  },
  {
   "cell_type": "markdown",
   "id": "08748401-288b-41e1-b3bf-6b33055dbad6",
   "metadata": {},
   "source": [
    "## Exercice 1 : les impairs\n",
    "\n",
    "Écrire une fonction qui prend 2 nombres en paramètres, et qui affiche, dans l'ordre croissant, tous les entiers impairs se trouvant entre ces deux nombres. Vous devez afficher ces nombres, en les séparant uniquement d'un espace.\n",
    "\n",
    "> Exemple : fonction(42.75, 52.23) doit renvoyer 43 45 47 49 51"
   ]
  },
  {
   "cell_type": "code",
   "execution_count": null,
   "id": "2dd8cfe6-e466-4787-ba52-520d174c841e",
   "metadata": {},
   "outputs": [],
   "source": []
  },
  {
   "cell_type": "markdown",
   "id": "7d4dc461-2f84-45be-8033-110a781ba47f",
   "metadata": {},
   "source": [
    "## Exercice 2 : le jeu du plus ou moins\n",
    "\n",
    "Coder le jeu suivant.\n",
    "\n",
    "Pour commencer l'ordinateur va choisir au hasard un nombre compris entre 1 et 100.\n",
    "\n",
    "L'utilisateur doit alors deviner ce nombre comme ceci :\n",
    "1. L'utilisateur propose un nombre.\n",
    "2. L'ordinateur lui dit s'il est trop petit ou trop grand, et ainsi de suite jusqu'à ce que l'utilisateur aie trouvé le bon nombre.\n",
    "\n",
    "> On pourra ajouter en options dans ce jeu les fonctionnalités suivantes :\n",
    ">- L'ordinateur affiche un message d'erreur si l'utilisateur propose un nombre inférieur à 0 ou supérieur à 100.\n",
    ">- Vous pouvez choisir le niveau de difficulté (c’est-à-dire la taille de l’intervalle possible)\n",
    ">- Vous pouvez inclure un mode multijoueur où un autre utilisateur entre le nombre à deviner \n",
    ">- Vous pouvez ajouter une variable \"compteur\" qui fait en sorte de dire à l'utilisateur en combien de coups il a réussi à découvrir le nombre (ex. : \"Vous avez trouvé le nombre en 5 coups\") \n",
    ">- Vous pouvez ajouter un second compteur qui somme les scores de chaque partie\n",
    ">- Vous pouvez demander à l'utilisateur s'il veut refaire une partie ou pas\n",
    ">- etc..."
   ]
  },
  {
   "cell_type": "code",
   "execution_count": null,
   "id": "5bf7ebed-8455-4b8a-9e97-4815cebad345",
   "metadata": {},
   "outputs": [],
   "source": []
  },
  {
   "cell_type": "markdown",
   "id": "f0fe5daf-d4ee-45c7-8cf2-7a0d2c24c53a",
   "metadata": {},
   "source": [
    "## Exercice 3 : des conversions\n",
    "\n",
    "1. Écrire un programme qui convertit un nombre entier de secondes fourni au départ, en un nombre d'années, de mois, de jours, de minutes et de secondes. \n",
    "\n",
    "Contraintes:\n",
    "- Ne pas utiliser le package datetime\n",
    "- Afficher le résultat sous la forme :\n",
    "> 3430061596791935255 secondes correspondent à :\n",
    "> 108 692 093 086 années 8 mois 1 jours 15 heures 51 minutes 28 secondes\n",
    "\n",
    "2. Écrire un programme qui convertit en mètres par seconde et en km/h une vitesse fournie par l'utilisateur en miles/heure (1 mile = 1609 mètres). Afficher le résultat avec uniquement 2 chiffres après la virgule."
   ]
  },
  {
   "cell_type": "code",
   "execution_count": null,
   "id": "dec48482-169e-445d-9d43-ed126818cfb5",
   "metadata": {},
   "outputs": [],
   "source": []
  },
  {
   "cell_type": "markdown",
   "id": "83c09210-869d-4fd3-beaf-326b7cf9ac6b",
   "metadata": {},
   "source": [
    "## Exercice 4 : le triangle de Pascal\n",
    "\n",
    "Soit le tableau de Pascal : \n",
    "\n",
    "| n \\ k | 0  | 1  | 2  | 3  | 4  | 5  | 6  | 7  | 8  |\n",
    "|------|----|----|----|----|----|----|----|----|----|\n",
    "| 0    | 1  |    |    |    |    |    |    |    |    |\n",
    "| 1    | 1  | 1  |    |    |    |    |    |    |    |\n",
    "| 2    | 1  | 2  | 1  |    |    |    |    |    |    |\n",
    "| 3    | 1  | 3  | 3  | 1  |    |    |    |    |    |\n",
    "| 4    | 1  | 4  | 6  | 4  | 1  |    |    |    |    |\n",
    "| 5    | 1  | 5  |10  |10  | 5  | 1  |    |    |    |\n",
    "| 6    | 1  | 6  |15  |20  |15  | 6  | 1  |    |    |\n",
    "| 7    | 1  | 7  |21  |35  |35  |21  | 7  | 1  |    |\n",
    "| 8    | 1  | 8  |28  |56  |70  |56  |28  | 8  | 1  |\n",
    "\n",
    "Chaque élément d'une ligne s'obtient en sommant les deux termes au-dessus et à gauche de l'élément.\n",
    ">*Exemple : ligne 7, on a 35 = 20 + 15.*\n",
    "\n",
    "Écrire une fonction qui prend comme paramètre le numéro de ligne n et renvoie la plus grande valeur de la ligne n du tableau de Pascal."
   ]
  },
  {
   "cell_type": "code",
   "execution_count": null,
   "id": "91584775-3a1e-4372-a65a-0b4334cc6426",
   "metadata": {},
   "outputs": [],
   "source": []
  },
  {
   "cell_type": "markdown",
   "id": "21a2f7c7-6857-44d7-9fd6-5b8ba87bd830",
   "metadata": {},
   "source": [
    "## Exercice 5 : quelques notes\n",
    "\n",
    "Écrire un programme permettant d'entrer des notes d'élèves d’élèves sur 20 jusqu’à ce l’utilisateur saisisse une note vide.\n",
    "\n",
    "Construire une liste et à chaque nouvelle entrée, afficher le nombre de notes entrées, la note la plus élevée, la note la plus basse, la moyenne de toutes les notes.\n",
    "\n",
    "Facultatif : utiliser le module pickle pour enregistrer la liste de note et la récupérer si nécessaire. À chaque fois que l’utilisateur commence, lui demander s’il veut continuer une des listes existantes, en créer une nouvelle ou écraser une de celles existantes."
   ]
  },
  {
   "cell_type": "code",
   "execution_count": null,
   "id": "49dff6b1-3f83-4a10-9993-0079314ed93b",
   "metadata": {},
   "outputs": [],
   "source": []
  }
 ],
 "metadata": {
  "kernelspec": {
   "display_name": "Python 3 (ipykernel)",
   "language": "python",
   "name": "python3"
  },
  "language_info": {
   "codemirror_mode": {
    "name": "ipython",
    "version": 3
   },
   "file_extension": ".py",
   "mimetype": "text/x-python",
   "name": "python",
   "nbconvert_exporter": "python",
   "pygments_lexer": "ipython3",
   "version": "3.13.2"
  }
 },
 "nbformat": 4,
 "nbformat_minor": 5
}
