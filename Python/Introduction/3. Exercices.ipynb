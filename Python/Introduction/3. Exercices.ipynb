{
 "cells": [
  {
   "cell_type": "markdown",
   "id": "4a3d3e5c-422a-4ab1-a1a4-45e49199eb64",
   "metadata": {},
   "source": [
    "# Quelques exercices d'algorithmique en Python"
   ]
  },
  {
   "cell_type": "markdown",
   "id": "08748401-288b-41e1-b3bf-6b33055dbad6",
   "metadata": {},
   "source": [
    "## Exercice 1 : les impairs\n",
    "\n",
    "Écrire une fonction qui prend 2 nombres en paramètres, et qui affiche, dans l'ordre croissant, tous les entiers impairs se trouvant entre ces deux nombres. Vous devez afficher ces nombres, en les séparant uniquement d'un espace.\n",
    "\n",
    "> Exemple : fonction(42.75, 52.23) doit renvoyer 43 45 47 49 51"
   ]
  },
  {
   "cell_type": "code",
   "execution_count": 8,
   "id": "2dd8cfe6-e466-4787-ba52-520d174c841e",
   "metadata": {},
   "outputs": [
    {
     "name": "stdout",
     "output_type": "stream",
     "text": [
      "45 47 49 51 "
     ]
    }
   ],
   "source": [
    "from math import ceil, floor\n",
    "\n",
    "def impairs(a, b):\n",
    "    for i in range(ceil(a), floor(b)):\n",
    "        if i % 2 == 1 :\n",
    "            print(i, end=\" \")\n",
    "\n",
    "impairs(43.02, 52.23)"
   ]
  },
  {
   "cell_type": "markdown",
   "id": "7d4dc461-2f84-45be-8033-110a781ba47f",
   "metadata": {},
   "source": [
    "## Exercice 2 : le jeu du plus ou moins\n",
    "\n",
    "Coder le jeu suivant.\n",
    "\n",
    "Pour commencer l'ordinateur va choisir au hasard un nombre compris entre 1 et 100.\n",
    "\n",
    "L'utilisateur doit alors deviner ce nombre comme ceci :\n",
    "1. L'utilisateur propose un nombre.\n",
    "2. L'ordinateur lui dit s'il est trop petit ou trop grand, et ainsi de suite jusqu'à ce que l'utilisateur aie trouvé le bon nombre.\n",
    "\n",
    "> On pourra ajouter en options dans ce jeu les fonctionnalités suivantes :\n",
    ">- L'ordinateur affiche un message d'erreur si l'utilisateur propose un nombre inférieur à 0 ou supérieur à 100.\n",
    ">- Vous pouvez choisir le niveau de difficulté (c’est-à-dire la taille de l’intervalle possible)\n",
    ">- Vous pouvez ajouter une variable \"compteur\" qui fait en sorte de dire à l'utilisateur en combien de coups il a réussi à découvrir le nombre (ex. : \"Vous avez trouvé le nombre en 5 coups\") \n",
    ">- Vous pouvez demander à l'utilisateur s'il veut refaire une partie ou pas\n",
    ">- Vous pouvez ajouter un second compteur qui somme les scores de chaque partie\n",
    ">- Vous pouvez inclure un mode multijoueur où un autre utilisateur entre le nombre à deviner \n",
    ">- etc..."
   ]
  },
  {
   "cell_type": "code",
   "execution_count": 2,
   "id": "5bf7ebed-8455-4b8a-9e97-4815cebad345",
   "metadata": {},
   "outputs": [
    {
     "name": "stdin",
     "output_type": "stream",
     "text": [
      "Entrer un nombre entre 1 et 100 : 50\n"
     ]
    },
    {
     "name": "stdout",
     "output_type": "stream",
     "text": [
      "Le nombre à trouver est plus grand\n"
     ]
    },
    {
     "name": "stdin",
     "output_type": "stream",
     "text": [
      "Entrer un nombre entre 1 et 100 : 75\n"
     ]
    },
    {
     "name": "stdout",
     "output_type": "stream",
     "text": [
      "Le nombre à trouver est plus petit\n"
     ]
    },
    {
     "name": "stdin",
     "output_type": "stream",
     "text": [
      "Entrer un nombre entre 1 et 100 : 68\n"
     ]
    },
    {
     "name": "stdout",
     "output_type": "stream",
     "text": [
      "Le nombre à trouver est plus petit\n"
     ]
    },
    {
     "name": "stdin",
     "output_type": "stream",
     "text": [
      "Entrer un nombre entre 1 et 100 : 64\n"
     ]
    },
    {
     "name": "stdout",
     "output_type": "stream",
     "text": [
      "Le nombre à trouver est plus grand\n"
     ]
    },
    {
     "name": "stdin",
     "output_type": "stream",
     "text": [
      "Entrer un nombre entre 1 et 100 : 66\n"
     ]
    },
    {
     "name": "stdout",
     "output_type": "stream",
     "text": [
      "Bravo trouvé\n"
     ]
    }
   ],
   "source": [
    "# Solution minimale\n",
    "from random import randint\n",
    "\n",
    "nb_a_trouver = randint(1,100)\n",
    "nb = -1\n",
    "while nb != nb_a_trouver :\n",
    "    nb = eval(input(\"Entrer un nombre entre 1 et 100 :\"))\n",
    "    if nb < nb_a_trouver :\n",
    "        print(\"Le nombre à trouver est plus grand\")\n",
    "    elif nb == nb_a_trouver :\n",
    "        print(\"Bravo trouvé\")\n",
    "    else :\n",
    "        print(\"Le nombre à trouver est plus petit\")"
   ]
  },
  {
   "cell_type": "code",
   "execution_count": 3,
   "id": "6a4dcb9f-bd40-4f08-9d45-56bc9e088f94",
   "metadata": {},
   "outputs": [
    {
     "name": "stdin",
     "output_type": "stream",
     "text": [
      "Entrer un nombre entre 1 et 100 : 50\n"
     ]
    },
    {
     "name": "stdout",
     "output_type": "stream",
     "text": [
      "Le nombre à trouver est plus grand\n"
     ]
    },
    {
     "name": "stdin",
     "output_type": "stream",
     "text": [
      "Entrer un nombre entre 1 et 100 : 75\n"
     ]
    },
    {
     "name": "stdout",
     "output_type": "stream",
     "text": [
      "Le nombre à trouver est plus grand\n"
     ]
    },
    {
     "name": "stdin",
     "output_type": "stream",
     "text": [
      "Entrer un nombre entre 1 et 100 : 87\n"
     ]
    },
    {
     "name": "stdout",
     "output_type": "stream",
     "text": [
      "Le nombre à trouver est plus petit\n"
     ]
    },
    {
     "name": "stdin",
     "output_type": "stream",
     "text": [
      "Entrer un nombre entre 1 et 100 : 80\n"
     ]
    },
    {
     "name": "stdout",
     "output_type": "stream",
     "text": [
      "Bravo trouvé\n"
     ]
    }
   ],
   "source": [
    "# Solution minimale bis\n",
    "from random import randint\n",
    "\n",
    "nb_a_trouver = randint(1,100)\n",
    "\n",
    "while True :\n",
    "    nb = eval(input(\"Entrer un nombre entre 1 et 100 :\"))\n",
    "    if nb < nb_a_trouver :\n",
    "        print(\"Le nombre à trouver est plus grand\")\n",
    "    elif nb > nb_a_trouver :\n",
    "        print(\"Le nombre à trouver est plus petit\")\n",
    "    else :\n",
    "        print(\"Bravo trouvé\")\n",
    "        break"
   ]
  },
  {
   "cell_type": "code",
   "execution_count": 6,
   "id": "8fff8c35-dcc4-4664-8b4c-4b7d3884c426",
   "metadata": {},
   "outputs": [
    {
     "name": "stdin",
     "output_type": "stream",
     "text": [
      "Combien êtes-vous ? 2\n",
      "Entrer un nom pour le joueur 0 aa\n",
      "Entrer un nom pour le joueur 1 bb\n",
      "Choisir un niveau de difficulté de 1 (très facile) à 10 (très difficile) 1\n"
     ]
    },
    {
     "name": "stdout",
     "output_type": "stream",
     "text": [
      "À JOUEUR AA DE JOUER\n"
     ]
    },
    {
     "name": "stdin",
     "output_type": "stream",
     "text": [
      "Entrer un nombre entre 1 et 20 : 10\n"
     ]
    },
    {
     "name": "stdout",
     "output_type": "stream",
     "text": [
      "Le nombre à trouver est plus grand\n"
     ]
    },
    {
     "name": "stdin",
     "output_type": "stream",
     "text": [
      "Entrer un nombre entre 1 et 20 : 15\n"
     ]
    },
    {
     "name": "stdout",
     "output_type": "stream",
     "text": [
      "Bravo trouvé en 2 coup(s)\n",
      "À JOUEUR BB DE JOUER\n"
     ]
    },
    {
     "name": "stdin",
     "output_type": "stream",
     "text": [
      "Entrer un nombre entre 1 et 20 : 10\n"
     ]
    },
    {
     "name": "stdout",
     "output_type": "stream",
     "text": [
      "Le nombre à trouver est plus grand\n"
     ]
    },
    {
     "name": "stdin",
     "output_type": "stream",
     "text": [
      "Entrer un nombre entre 1 et 20 : 15\n"
     ]
    },
    {
     "name": "stdout",
     "output_type": "stream",
     "text": [
      "Bravo trouvé en 2 coup(s)\n",
      "Actuellement, AA et BB sont devant avec 2 points\n"
     ]
    },
    {
     "name": "stdin",
     "output_type": "stream",
     "text": [
      "Voulez-vous continuer ? (o/n) o\n",
      "Choisir un niveau de difficulté de 1 (très facile) à 10 (très difficile) 1\n"
     ]
    },
    {
     "name": "stdout",
     "output_type": "stream",
     "text": [
      "À JOUEUR AA DE JOUER\n"
     ]
    },
    {
     "name": "stdin",
     "output_type": "stream",
     "text": [
      "Entrer un nombre entre 1 et 20 : 10\n"
     ]
    },
    {
     "name": "stdout",
     "output_type": "stream",
     "text": [
      "Le nombre à trouver est plus grand\n"
     ]
    },
    {
     "name": "stdin",
     "output_type": "stream",
     "text": [
      "Entrer un nombre entre 1 et 20 : 15\n"
     ]
    },
    {
     "name": "stdout",
     "output_type": "stream",
     "text": [
      "Le nombre à trouver est plus grand\n"
     ]
    },
    {
     "name": "stdin",
     "output_type": "stream",
     "text": [
      "Entrer un nombre entre 1 et 20 : 18\n"
     ]
    },
    {
     "name": "stdout",
     "output_type": "stream",
     "text": [
      "Le nombre à trouver est plus grand\n"
     ]
    },
    {
     "name": "stdin",
     "output_type": "stream",
     "text": [
      "Entrer un nombre entre 1 et 20 : 19\n"
     ]
    },
    {
     "name": "stdout",
     "output_type": "stream",
     "text": [
      "Bravo trouvé en 4 coup(s)\n",
      "À JOUEUR BB DE JOUER\n"
     ]
    },
    {
     "name": "stdin",
     "output_type": "stream",
     "text": [
      "Entrer un nombre entre 1 et 20 : 19\n"
     ]
    },
    {
     "name": "stdout",
     "output_type": "stream",
     "text": [
      "Le nombre à trouver est plus grand\n"
     ]
    },
    {
     "name": "stdin",
     "output_type": "stream",
     "text": [
      "Entrer un nombre entre 1 et 20 : 20\n"
     ]
    },
    {
     "name": "stdout",
     "output_type": "stream",
     "text": [
      "Bravo trouvé en 2 coup(s)\n",
      "Actuellement, BB est devant avec 4 points\n"
     ]
    },
    {
     "name": "stdin",
     "output_type": "stream",
     "text": [
      "Voulez-vous continuer ? (o/n) n\n"
     ]
    }
   ],
   "source": [
    "# Solution plus complète\n",
    "from random import randint\n",
    "\n",
    "nb_joueurs = eval(input(\"Combien êtes-vous ?\"))\n",
    "scores = {}\n",
    "\n",
    "for i in range(nb_joueurs):\n",
    "    nom_joueur = input(f\"Entrer un nom pour le joueur {i}\")\n",
    "    scores[nom_joueur.upper()] = []\n",
    "\n",
    "while True:\n",
    "    niveau_input = -1\n",
    "    while niveau_input not in range(1,11):\n",
    "        niveau_input = eval(input(\"Choisir un niveau de difficulté de 1 (très facile) à 10 (très difficile)\"))\n",
    "    \n",
    "    niveau = 20 * niveau_input\n",
    "\n",
    "    for joueur in scores.keys() :\n",
    "        print(f\"À JOUEUR {joueur} DE JOUER\")\n",
    "        nb = -1\n",
    "        cpt = 0\n",
    "        nb_a_trouver = randint(1, niveau)\n",
    "\n",
    "        while nb != nb_a_trouver :\n",
    "            cpt += 1        \n",
    "            nb = eval(input(f\"Entrer un nombre entre 1 et {niveau} :\"))\n",
    "            \n",
    "            if nb < 1 or nb > niveau :\n",
    "                print(\"En dehors de l'intervalle attendu !\")\n",
    "            elif nb < nb_a_trouver :\n",
    "                print(\"Le nombre à trouver est plus grand\")\n",
    "            elif nb > nb_a_trouver :\n",
    "                print(\"Le nombre à trouver est plus petit\")\n",
    "            else :\n",
    "                print(f\"Bravo trouvé en {cpt} coup(s)\")\n",
    "                scores[joueur].append(cpt)\n",
    "                    \n",
    "    total_joueur = {joueur: sum(points) for joueur, points in scores.items()}  \n",
    "    min_score = min(total_joueur.values())   \n",
    "    gagnants = [joueur for joueur, total in total_joueur.items() if total == min_score]\n",
    "        \n",
    "    print(f\"Actuellement, {\" et \".join(gagnants)} {'est' if len(gagnants) == 1 else 'sont'} devant avec {min_score} points\")\n",
    "\n",
    "    rejouer = input(\"Voulez-vous continuer ? (o/n)\")\n",
    "    if rejouer.lower() == \"n\":\n",
    "        break"
   ]
  },
  {
   "cell_type": "code",
   "execution_count": 3,
   "id": "e153d1ae-b0a2-4ab4-a70e-62f2236e73d6",
   "metadata": {},
   "outputs": [
    {
     "name": "stdout",
     "output_type": "stream",
     "text": [
      "Actuellement, AA et DD sont devant avec un score de 7\n"
     ]
    }
   ],
   "source": [
    "scores = {'AA': [4,1,2], 'BB': [5,5,5], 'CC': [6,2,3], 'DD': [5,1,1]}\n",
    "\n",
    "total_joueur = {joueur: sum(points) for joueur, points in scores.items()}\n",
    "\n",
    "#total_joueur = {}\n",
    "#for joueur, points in scores.items():\n",
    "#    total_joueur[joueur] =  sum(points)\n",
    "    \n",
    "min_score = min(total_joueur.values())\n",
    "\n",
    "gagnants = [joueur for joueur, total in total_joueur.items() if total == min_score]\n",
    "\n",
    "#gagnants = []\n",
    "#for joueur, total in total_joueur.items():\n",
    "#    if total == min_score:\n",
    "#        gagnants.append(joueur)\n",
    "        \n",
    "print(f\"Actuellement, {\" et \".join(gagnants)} {'est' if len(gagnants) == 1 else 'sont'} devant avec un score de {min_score}\")"
   ]
  },
  {
   "cell_type": "code",
   "execution_count": 13,
   "id": "7e796c63-bbcb-4a20-b5fd-0f3853ad66a9",
   "metadata": {},
   "outputs": [
    {
     "name": "stdin",
     "output_type": "stream",
     "text": [
      "Combien êtes-vous ? 1\n",
      "Entrer un nom pour le joueur 0 aa\n",
      "Choisir un niveau de difficulté de 1 (très facile) à 10 (très difficile) bb\n"
     ]
    },
    {
     "name": "stdout",
     "output_type": "stream",
     "text": [
      "C'est pas un nombre...\n"
     ]
    },
    {
     "name": "stdin",
     "output_type": "stream",
     "text": [
      "Choisir un niveau de difficulté de 1 (très facile) à 10 (très difficile) 1\n"
     ]
    },
    {
     "name": "stdout",
     "output_type": "stream",
     "text": [
      "À JOUEUR AA DE JOUER\n"
     ]
    },
    {
     "name": "stdin",
     "output_type": "stream",
     "text": [
      "Entrer un nombre entre 1 et 20 : 10\n"
     ]
    },
    {
     "name": "stdout",
     "output_type": "stream",
     "text": [
      "Le nombre à trouver est plus petit\n"
     ]
    },
    {
     "name": "stdin",
     "output_type": "stream",
     "text": [
      "Entrer un nombre entre 1 et 20 : 5\n"
     ]
    },
    {
     "name": "stdout",
     "output_type": "stream",
     "text": [
      "Le nombre à trouver est plus grand\n"
     ]
    },
    {
     "name": "stdin",
     "output_type": "stream",
     "text": [
      "Entrer un nombre entre 1 et 20 : 8\n"
     ]
    },
    {
     "name": "stdout",
     "output_type": "stream",
     "text": [
      "Le nombre à trouver est plus petit\n"
     ]
    },
    {
     "name": "stdin",
     "output_type": "stream",
     "text": [
      "Entrer un nombre entre 1 et 20 : 7\n"
     ]
    },
    {
     "name": "stdout",
     "output_type": "stream",
     "text": [
      "Bravo trouvé en 4 coup(s)\n",
      "Actuellement, AA est devant avec 4 points\n"
     ]
    },
    {
     "name": "stdin",
     "output_type": "stream",
     "text": [
      "Voulez-vous continuer ? (o/n) n\n"
     ]
    }
   ],
   "source": [
    "# Solution plus complète bis\n",
    "from random import randint\n",
    "\n",
    "def input_num(string):\n",
    "    n = input(string)\n",
    "    try:\n",
    "        return eval(n)\n",
    "    except:\n",
    "        print(\"C'est pas un nombre...\")\n",
    "        return input_num(string)\n",
    "        \n",
    "def joueurs_et_scores():\n",
    "    nb_joueurs = input_num(\"Combien êtes-vous ?\")\n",
    "    scores = {}\n",
    "    \n",
    "    for i in range(nb_joueurs):\n",
    "        nom_joueur = input(f\"Entrer un nom pour le joueur {i}\")\n",
    "        scores[nom_joueur.upper()] = []\n",
    "\n",
    "    return scores\n",
    "\n",
    "def choix_niveau():\n",
    "    niveau_input = -1\n",
    "    while niveau_input not in range(1,11):\n",
    "        niveau_input = input_num(\"Choisir un niveau de difficulté de 1 (très facile) à 10 (très difficile)\")\n",
    "    \n",
    "    return 20 * niveau_input\n",
    "\n",
    "def deviner_un_nombre(niveau):\n",
    "    nb = -1\n",
    "    cpt = 0\n",
    "    nb_a_trouver = randint(1, niveau)\n",
    "\n",
    "    while nb != nb_a_trouver :\n",
    "        cpt += 1        \n",
    "        nb = input_num(f\"Entrer un nombre entre 1 et {niveau} :\")\n",
    "        \n",
    "        if nb < 1 or nb > niveau :\n",
    "            print(\"En dehors de l'intervalle attendu !\")\n",
    "        elif nb < nb_a_trouver :\n",
    "            print(\"Le nombre à trouver est plus grand\")\n",
    "        elif nb > nb_a_trouver :\n",
    "            print(\"Le nombre à trouver est plus petit\")\n",
    "        else :\n",
    "            print(f\"Bravo trouvé en {cpt} coup(s)\")\n",
    "            return cpt\n",
    "\n",
    "def afficher_resultats(scores):\n",
    "    total_joueur = {joueur: sum(points) for joueur, points in scores.items()}  \n",
    "    min_score = min(total_joueur.values())   \n",
    "    gagnants = [joueur for joueur, total in total_joueur.items() if total == min_score]\n",
    "    print(f\"Actuellement, {' et '.join(gagnants)} {'est' if len(gagnants) == 1 else 'sont'} devant avec {min_score} points\")\n",
    "                \n",
    "def jeu_plus_ou_moins():\n",
    "    scores = joueurs_et_scores()\n",
    "    \n",
    "    while True:\n",
    "        niveau = choix_niveau()\n",
    "\n",
    "        for joueur in scores.keys() :\n",
    "            print(f\"À JOUEUR {joueur} DE JOUER\")\n",
    "            cpt = deviner_un_nombre(niveau)\n",
    "            scores[joueur].append(cpt)\n",
    "\n",
    "        afficher_resultats(scores)\n",
    "    \n",
    "        rejouer = input(\"Voulez-vous continuer ? (o/n)\")\n",
    "        if rejouer.lower() == \"n\":\n",
    "            break\n",
    "\n",
    "jeu_plus_ou_moins()"
   ]
  },
  {
   "cell_type": "markdown",
   "id": "f0fe5daf-d4ee-45c7-8cf2-7a0d2c24c53a",
   "metadata": {},
   "source": [
    "## Exercice 3 : des conversions\n",
    "\n",
    "1. Écrire un programme qui convertit un nombre entier de secondes fourni au départ, en un nombre d'années, de mois, de jours, de minutes et de secondes. \n",
    "\n",
    "Contraintes:\n",
    "- Ne pas utiliser le package datetime\n",
    "- Afficher le résultat sous la forme :\n",
    "> 3430061596791935255 secondes correspondent à :\n",
    "> 108 692 093 086 années 8 mois 1 jours 15 heures 51 minutes 28 secondes\n",
    "\n",
    "2. Écrire un programme qui convertit en mètres par seconde et en km/h une vitesse fournie par l'utilisateur en miles/heure (1 mile = 1609 mètres). Afficher le résultat avec uniquement 2 chiffres après la virgule."
   ]
  },
  {
   "cell_type": "code",
   "execution_count": 26,
   "id": "dec48482-169e-445d-9d43-ed126818cfb5",
   "metadata": {},
   "outputs": [
    {
     "name": "stdout",
     "output_type": "stream",
     "text": [
      "3430061596791935255 secondes correspondent à :\n",
      "108 692 093 086 années\n",
      "8 mois 1 jours\n",
      "15 heures 51 minutes 28 secondes\n"
     ]
    }
   ],
   "source": [
    "def conv_time(s):\n",
    "    reste = s\n",
    "    \n",
    "    annee = int(reste // (60*60*24*365.25))\n",
    "    reste = reste % (60*60*24*365.25)\n",
    "\n",
    "    mois = int(reste // (60*60*24*30.4375))\n",
    "    reste = reste % (60*60*24*30.4375)\n",
    "\n",
    "    jour = int(reste // (60*60*24))\n",
    "    reste = reste % (60*60*24)\n",
    "\n",
    "    heure = int(reste // (60*60))\n",
    "    reste = reste % (60*60)\n",
    "\n",
    "    minute = int(reste // 60)\n",
    "    \n",
    "    seconde = int(reste % 60)\n",
    "    \n",
    "    print(\n",
    "        f\"{s} secondes correspondent à :\",\n",
    "        f\"{annee:,} années\".replace(\",\", \" \"),\n",
    "        f\"{mois} mois {jour} jours\",\n",
    "        f\"{heure} heures {minute} minutes {seconde} secondes\",\n",
    "        sep=\"\\n\"\n",
    "    )\n",
    "\n",
    "conv_time(3430061596791935255)"
   ]
  },
  {
   "cell_type": "code",
   "execution_count": 27,
   "id": "83cccd5b-b349-4ef3-9b90-70443366e339",
   "metadata": {},
   "outputs": [
    {
     "name": "stdout",
     "output_type": "stream",
     "text": [
      "159 miles/h est équivalent à :\n",
      "255.83 km/h et 71.06 m/s\n"
     ]
    }
   ],
   "source": [
    "def conv_speed(speed):\n",
    "    kmh = round(1.609 * speed, 2)\n",
    "    ms = round(1609 / 3600 * speed, 2)\n",
    "    print(\n",
    "        f\"{speed} miles/h est équivalent à :\",\n",
    "        f\"{kmh} km/h et {ms} m/s\",\n",
    "        sep=\"\\n\"\n",
    "    )\n",
    "\n",
    "import random\n",
    "conv_speed(random.randint(0,300))"
   ]
  },
  {
   "cell_type": "markdown",
   "id": "83c09210-869d-4fd3-beaf-326b7cf9ac6b",
   "metadata": {},
   "source": [
    "## Exercice 4 : le triangle de Pascal\n",
    "\n",
    "Soit le tableau de Pascal : \n",
    "\n",
    "| n \\ k | 1  | 2  | 3  | 4  | 5  | 6  | 7  | 8  | 9  |\n",
    "|------|----|----|----|----|----|----|----|----|----|\n",
    "| 1    | 1  | 1  |    |    |    |    |    |    |    |\n",
    "| 2    | 1  | 2  | 1  |    |    |    |    |    |    |\n",
    "| 3    | 1  | 3  | 3  | 1  |    |    |    |    |    |\n",
    "| 4    | 1  | 4  | 6  | 4  | 1  |    |    |    |    |\n",
    "| 5    | 1  | 5  |10  |10  | 5  | 1  |    |    |    |\n",
    "| 6    | 1  | 6  |15  |20  |15  | 6  | 1  |    |    |\n",
    "| 7    | 1  | 7  |21  |35  |35  |21  | 7  | 1  |    |\n",
    "| 8    | 1  | 8  |28  |56  |70  |56  |28  | 8  | 1  |\n",
    "\n",
    "Chaque élément d'une ligne s'obtient en sommant les deux termes au-dessus et à gauche de l'élément.\n",
    ">*Exemple : ligne 7, on a 35 = 20 + 15.*\n",
    "\n",
    "Écrire une fonction qui prend comme paramètre le numéro de ligne n et renvoie la plus grande valeur de la ligne n du tableau de Pascal."
   ]
  },
  {
   "cell_type": "code",
   "execution_count": 30,
   "id": "91584775-3a1e-4372-a65a-0b4334cc6426",
   "metadata": {},
   "outputs": [
    {
     "name": "stdout",
     "output_type": "stream",
     "text": [
      "1\n",
      "2\n",
      "3\n",
      "6\n",
      "10\n",
      "20\n",
      "35\n",
      "70\n",
      "126\n"
     ]
    }
   ],
   "source": [
    "def pascal(i,k):\n",
    "    \"\"\"\n",
    "    Fonction qui retourne le coefficient du triangle de Pascal\n",
    "    à la i-ème ligne et k-ème colonne\n",
    "    \"\"\"\n",
    "    if k == 1 or k == i+1:\n",
    "        return 1\n",
    "    else :\n",
    "        return pascal(i-1, k-1) + pascal(i-1,k)\n",
    "\n",
    "le_plus_grand = lambda ligne : pascal(ligne, ligne//2+1)\n",
    "for i in range(1,10):\n",
    "    print(le_plus_grand(i))"
   ]
  },
  {
   "cell_type": "markdown",
   "id": "21a2f7c7-6857-44d7-9fd6-5b8ba87bd830",
   "metadata": {},
   "source": [
    "## Exercice 5 : quelques notes\n",
    "\n",
    "Écrire un programme permettant d'entrer des notes d'élèves d’élèves sur 20 jusqu’à ce l’utilisateur saisisse une note vide.\n",
    "\n",
    "Construire une liste et à chaque nouvelle entrée, afficher le nombre de notes entrées, la note la plus élevée, la note la plus basse, la moyenne de toutes les notes.\n",
    "\n",
    "Facultatif : utiliser le module pickle pour enregistrer la liste de note et la récupérer si nécessaire. À chaque fois que l’utilisateur commence, lui demander s’il veut continuer une des listes existantes, en créer une nouvelle ou écraser une de celles existantes."
   ]
  },
  {
   "cell_type": "code",
   "execution_count": 28,
   "id": "02812366-bbeb-4ab1-9970-9a80efbc925c",
   "metadata": {},
   "outputs": [
    {
     "name": "stdout",
     "output_type": "stream",
     "text": [
      "[1, 2, 3, 'aze'] <class 'list'>\n"
     ]
    }
   ],
   "source": [
    "# Sauvegarder et charger un objet Python via pkl\n",
    "import os\n",
    "import pickle\n",
    "\n",
    "# Change le répertoire courant\n",
    "os.chdir('/home/elka/STATOSCOP/missions/EMISA-DEVWEB/Python/Introduction')\n",
    "\n",
    "# Crée un dossier si non existant\n",
    "if not os.path.exists(\"exo_notes\"):\n",
    "    os.mkdir(\"exo_notes\")\n",
    "\n",
    "# Sauvegarde un objet Python\n",
    "liste = [1,2,3,'aze']\n",
    "with open(\"exo_notes/fichier_test\", \"wb\") as f:\n",
    "    pickle.dump(liste, f)\n",
    "\n",
    "# Charge un dump pickle (objet précédemment sauvegardé avec pickle)\n",
    "with open(\"exo_notes/fichier_test\", \"rb\") as f:\n",
    "    liste2 = pickle.load(f)\n",
    "\n",
    "print(liste2, type(liste2))"
   ]
  },
  {
   "cell_type": "code",
   "execution_count": 17,
   "id": "49dff6b1-3f83-4a10-9993-0079314ed93b",
   "metadata": {},
   "outputs": [
    {
     "name": "stdin",
     "output_type": "stream",
     "text": [
      "Entrer une note sur 20 (juste <ENTER> ou -1 pour quitter) :  12\n"
     ]
    },
    {
     "name": "stdout",
     "output_type": "stream",
     "text": [
      "1 notes entre 12 et 12 avec une moyenne de 12.0\n"
     ]
    },
    {
     "name": "stdin",
     "output_type": "stream",
     "text": [
      "Entrer une note sur 20 (juste <ENTER> ou -1 pour quitter) :  15\n"
     ]
    },
    {
     "name": "stdout",
     "output_type": "stream",
     "text": [
      "2 notes entre 12 et 15 avec une moyenne de 13.5\n"
     ]
    },
    {
     "name": "stdin",
     "output_type": "stream",
     "text": [
      "Entrer une note sur 20 (juste <ENTER> ou -1 pour quitter) :  \n"
     ]
    }
   ],
   "source": [
    "def input_note(string=\"Entrer une note sur 20 (juste <ENTER> ou -1 pour quitter) : \"):\n",
    "    \"\"\"\n",
    "    Fonction qui permet à l'utilisateur d'entrer un input et s'assure\n",
    "    qui l'input en question est :\n",
    "        - soit une chaîne vide\n",
    "        - soit un nombre\n",
    "    \n",
    "    Params:\n",
    "        - string: chaîne de caractères pour le message de l'input utilisateur\n",
    "        \n",
    "    Returns:\n",
    "        - l'input de l'utilisateur\n",
    "    \"\"\"\n",
    "    new_note = input(string)\n",
    "\n",
    "    if new_note == \"\":\n",
    "        return -1\n",
    "    else:\n",
    "        try:\n",
    "            return eval(new_note)\n",
    "        except:\n",
    "            print(\"Attention ce n'est ni un nombre ni une chaîne vide\")\n",
    "            return input_note(string)    \n",
    "\n",
    "            \n",
    "def ajout_note(liste):\n",
    "    while True:\n",
    "        new_note = input_note() # soit un nombre soit -1234 si l'utilisateur en entrer la chaîne vide\n",
    "        \n",
    "        if 0 <= new_note <= 20:\n",
    "            notes.append(new_note)\n",
    "            \n",
    "            print(\n",
    "                f\"{len(notes)} notes entre {min(notes)} et {max(notes)}\",\n",
    "                f\"avec une moyenne de {sum(notes)/len(notes)}\",\n",
    "            )\n",
    "            \n",
    "        elif new_note == -1 :\n",
    "            break\n",
    "        else :\n",
    "            print(\"Attention, erreur de note\")\n",
    "        \n",
    "def main():\n",
    "    liste = load()\n",
    "    notes = []\n",
    "    ajout_note(notes)\n",
    "    save()\n",
    "    \n",
    "    "
   ]
  }
 ],
 "metadata": {
  "kernelspec": {
   "display_name": "Python 3 (ipykernel)",
   "language": "python",
   "name": "python3"
  },
  "language_info": {
   "codemirror_mode": {
    "name": "ipython",
    "version": 3
   },
   "file_extension": ".py",
   "mimetype": "text/x-python",
   "name": "python",
   "nbconvert_exporter": "python",
   "pygments_lexer": "ipython3",
   "version": "3.13.2"
  }
 },
 "nbformat": 4,
 "nbformat_minor": 5
}
